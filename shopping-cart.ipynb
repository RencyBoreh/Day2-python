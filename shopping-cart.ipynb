{
 "cells": [
  {
   "cell_type": "code",
   "execution_count": 30,
   "id": "14e573ed-f1f5-4a08-bbda-596a41a36090",
   "metadata": {},
   "outputs": [
    {
     "name": "stdin",
     "output_type": "stream",
     "text": [
      "Enter the food you want to buy(q to quit): pizza\n",
      "Enter the price of pizza: 2.66\n",
      "Enter the food you want to buy(q to quit): chapo\n",
      "Enter the price of chapo: 5.44\n",
      "Enter the food you want to buy(q to quit): q\n"
     ]
    },
    {
     "name": "stdout",
     "output_type": "stream",
     "text": [
      "------------YOUR CART-----------\n",
      "pizza chapo \n",
      "Total price is:$5.44\n"
     ]
    }
   ],
   "source": [
    "foods=[]\n",
    "prices=[]\n",
    "total=0\n",
    "while True:\n",
    "    food=input(\"Enter the food you want to buy(q to quit):\")\n",
    "    if food.lower()==\"q\":\n",
    "      break\n",
    "    else:\n",
    "      price=float(input(f\"Enter the price of {food}:\"))\n",
    "      foods.append(food)\n",
    "      prices.append(price)\n",
    "print('------------YOUR CART-----------')\n",
    "for food in foods:\n",
    "    print(food,end=\" \")\n",
    "print()\n",
    "total=+price\n",
    "print(f\"Total price is:${total:.2f}\")\n",
    "\n",
    "    \n",
    "    \n",
    "    \n"
   ]
  },
  {
   "cell_type": "code",
   "execution_count": null,
   "id": "363c42d2-8ed3-421c-8933-e3241e853df0",
   "metadata": {},
   "outputs": [],
   "source": []
  }
 ],
 "metadata": {
  "kernelspec": {
   "display_name": "Python 3 (ipykernel)",
   "language": "python",
   "name": "python3"
  },
  "language_info": {
   "codemirror_mode": {
    "name": "ipython",
    "version": 3
   },
   "file_extension": ".py",
   "mimetype": "text/x-python",
   "name": "python",
   "nbconvert_exporter": "python",
   "pygments_lexer": "ipython3",
   "version": "3.12.4"
  }
 },
 "nbformat": 4,
 "nbformat_minor": 5
}
