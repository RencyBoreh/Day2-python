{
 "cells": [
  {
   "cell_type": "code",
   "execution_count": null,
   "id": "226b1729-6295-4cbc-9d77-a55179a4f7e0",
   "metadata": {},
   "outputs": [
    {
     "name": "stdout",
     "output_type": "stream",
     "text": [
      "------------------------------------------------------------\n",
      "How many elements are in the Periodic table?:\n",
      "A.116\n",
      "B.117\n",
      "C.118\n",
      "D.119\n"
     ]
    }
   ],
   "source": [
    "questions=(\"How many elements are in the Periodic table?:\",\n",
    "           \"Which animal lays the largest eggs?:\",\n",
    "           \"What is the most abundant gas in the Earth?:\",\n",
    "           \"How many bones are in the human body?:\",\n",
    "           \"Which planet in the solar system is the hottest?: \")\n",
    "options=((\"A.116\",\"B.117\",\"C.118\",\"D.119\"),\n",
    "         (\"A.Whale\",\"B.Crocodile\",\"C.Elephant\",\"D.Ostrich\"),\n",
    "         (\"A.Nitrogen\",\"B.Oxygen\",\"C.Carbon-Dioxide\",\"D.Hydrogen\"),\n",
    "         (\"A.206\",\"B.207\",\"C.208\",\"D.209\"),\n",
    "         (\"A.Mercury\",\"B.Venus\",\"C.Earth\",\"D.Mars\"))\n",
    "answers=(\"C\",\"D\",\"A\",\"A\",\"B\")\n",
    "guesses=[]\n",
    "score=0\n",
    "question_num=0\n",
    "for question in questions:\n",
    "    print(\"------------------------------------------------------------\")\n",
    "    print(question)\n",
    "    for option in options[question_num]:\n",
    "        print(option)\n",
    "\n",
    "    guess=input(\"Enter:(A,B,C,D): \").upper()\n",
    "    guesses.append(guess)\n",
    "    if guess==answers[question_num]:\n",
    "        score +=1\n",
    "        print(\"CORRECT!\")\n",
    "    else:\n",
    "        print(\"INCORRECT!\")\n",
    "        print(f\"{answers[question_num]} is correct answer\")\n",
    "    question_num+=1\n",
    "\n"
   ]
  },
  {
   "cell_type": "code",
   "execution_count": null,
   "id": "3ce96b7c-5421-4780-bf6b-42400cc33c5e",
   "metadata": {},
   "outputs": [],
   "source": []
  },
  {
   "cell_type": "code",
   "execution_count": null,
   "id": "ed26efa4-c1df-4709-be01-9488521f34be",
   "metadata": {},
   "outputs": [],
   "source": []
  }
 ],
 "metadata": {
  "kernelspec": {
   "display_name": "Python 3 (ipykernel)",
   "language": "python",
   "name": "python3"
  },
  "language_info": {
   "codemirror_mode": {
    "name": "ipython",
    "version": 3
   },
   "file_extension": ".py",
   "mimetype": "text/x-python",
   "name": "python",
   "nbconvert_exporter": "python",
   "pygments_lexer": "ipython3",
   "version": "3.12.4"
  }
 },
 "nbformat": 4,
 "nbformat_minor": 5
}
